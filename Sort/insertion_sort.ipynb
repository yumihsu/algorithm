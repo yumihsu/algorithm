{
 "cells": [
  {
   "cell_type": "markdown",
   "source": [
    "# Insert Sort\r\n",
    "## 原則\r\n",
    "- 直接從第二個開始逐一與當前左邊所有元素進行比較"
   ],
   "metadata": {}
  },
  {
   "cell_type": "code",
   "execution_count": 1,
   "source": [
    "import random"
   ],
   "outputs": [],
   "metadata": {}
  },
  {
   "cell_type": "code",
   "execution_count": 194,
   "source": [
    "class insert_sort(object):\r\n",
    "    def __init__(self) -> None:\r\n",
    "        self.data = []\r\n",
    "    def create_data(self ,count):\r\n",
    "        for i in range(count):\r\n",
    "            num = random.randint(1,5*count)\r\n",
    "            if num not in self.data:\r\n",
    "                self.data.append(num)\r\n",
    "    def sort(self):\r\n",
    "        for curr in range(len(self.data)):\r\n",
    "            #先保存好當前的數值，之後找到insert location 補上\r\n",
    "            curr_data = self.data[curr]\r\n",
    "            left = curr-1\r\n",
    "            #開始尋找位置\r\n",
    "            while left>= 0 and curr_data<self.data[left]:\r\n",
    "                #讓右邊的值跟左邊一致，左邊就會變成重複的值，左邊應為curr_data，等到找到location之後就替換上\r\n",
    "                self.data[left+1] = self.data[left] \r\n",
    "                left-=1\r\n",
    "            self.data[left+1] = curr_data  #因為最後一次while多減一次left，要先加回來             \r\n",
    "\r\n",
    "test = insert_sort()\r\n",
    "test.create_data(10)\r\n",
    "test.sort()\r\n",
    "print(test.data)\r\n",
    "                "
   ],
   "outputs": [
    {
     "output_type": "stream",
     "name": "stdout",
     "text": [
      "[3, 23, 25, 30, 36, 40, 41, 44]\n"
     ]
    }
   ],
   "metadata": {}
  }
 ],
 "metadata": {
  "orig_nbformat": 4,
  "language_info": {
   "name": "python",
   "version": "3.7.9",
   "mimetype": "text/x-python",
   "codemirror_mode": {
    "name": "ipython",
    "version": 3
   },
   "pygments_lexer": "ipython3",
   "nbconvert_exporter": "python",
   "file_extension": ".py"
  },
  "kernelspec": {
   "name": "python3",
   "display_name": "Python 3.7.9 64-bit (system)"
  },
  "interpreter": {
   "hash": "154b985307ed5f27a6d3ba42b096a18e491c73105c0c1fcaaefcabf9f0831ca0"
  }
 },
 "nbformat": 4,
 "nbformat_minor": 2
}