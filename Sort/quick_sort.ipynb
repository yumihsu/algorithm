{
 "cells": [
  {
   "cell_type": "markdown",
   "source": [
    "# 快速排序法"
   ],
   "metadata": {}
  },
  {
   "cell_type": "code",
   "execution_count": 50,
   "source": [
    "import random\r\n",
    "class quick_sort(object):\r\n",
    "    def __init__(self) -> None:\r\n",
    "        self.data = []\r\n",
    "    def create_data(self ,count):\r\n",
    "        while len(self.data)<count:\r\n",
    "            num = random.randint(1,count*3)\r\n",
    "            if num not in self.data:\r\n",
    "                self.data.append(num)\r\n",
    "\r\n",
    "    def quick_sort2(self ,data , left_init , right_init):\r\n",
    "        if left_init>=right_init :\r\n",
    "            return\r\n",
    "\r\n",
    "        left = left_init\r\n",
    "        right = right_init\r\n",
    "        stander = data[left_init]\r\n",
    "        \r\n",
    "        \r\n",
    "        while left != right  :\r\n",
    "            # 符合規則就找下一個  找到不符合為止\r\n",
    "            while data[right] > stander and left < right :\r\n",
    "                right -= 1\r\n",
    "            # 符合規則就找下一個  找到不符合為止\r\n",
    "            while data[left] <= stander and left < right :\r\n",
    "                left += 1\r\n",
    "            #當兩個規則都不符合且沒有相遇就互換\r\n",
    "            if left < right:\r\n",
    "                data[left] , data[right] = data[right] , data[left]\r\n",
    "\r\n",
    "        data[left_init] , data[left] = data[left] , stander\r\n",
    "        \r\n",
    "        self.quick_sort2(data , left_init , left-1) #LEFT PART \r\n",
    "        self.quick_sort2(data ,  left+1 , right_init) #RIGHT PART\r\n",
    "\r\n",
    "test = quick_sort()\r\n",
    "test.create_data(10)\r\n",
    "print(test.data)\r\n",
    "test.quick_sort2(test.data,0,len(test.data)-1)\r\n",
    "\r\n",
    "print(test.data)"
   ],
   "outputs": [
    {
     "output_type": "stream",
     "name": "stdout",
     "text": [
      "[3, 26, 8, 12, 20, 15, 11, 5, 27, 29]\n",
      "[3, 5, 8, 11, 12, 15, 20, 26, 27, 29]\n"
     ]
    }
   ],
   "metadata": {}
  }
 ],
 "metadata": {
  "orig_nbformat": 4,
  "language_info": {
   "name": "python",
   "version": "3.6.12",
   "mimetype": "text/x-python",
   "codemirror_mode": {
    "name": "ipython",
    "version": 3
   },
   "pygments_lexer": "ipython3",
   "nbconvert_exporter": "python",
   "file_extension": ".py"
  },
  "kernelspec": {
   "name": "python3",
   "display_name": "Python 3.7.9 64-bit (system)"
  },
  "interpreter": {
   "hash": "154b985307ed5f27a6d3ba42b096a18e491c73105c0c1fcaaefcabf9f0831ca0"
  }
 },
 "nbformat": 4,
 "nbformat_minor": 2
}