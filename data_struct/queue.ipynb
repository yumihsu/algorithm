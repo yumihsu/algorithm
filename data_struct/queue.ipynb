{
 "cells": [
  {
   "cell_type": "markdown",
   "source": [
    "# queue 是 FIFO(First in , first out )原則\r\n"
   ],
   "metadata": {}
  },
  {
   "cell_type": "code",
   "execution_count": 3,
   "source": [
    "import heapq"
   ],
   "outputs": [],
   "metadata": {}
  },
  {
   "cell_type": "code",
   "execution_count": 21,
   "source": [
    "class PriorityQueue(object):\r\n",
    "    def __init__(self) -> None:\r\n",
    "        self._queue = []\r\n",
    "        self._index = 0\r\n",
    "\r\n",
    "    def push(self ,item ,priority) -> (object ,int) : \r\n",
    "        heapq.heappush(self._queue ,(-priority ,self._index , item)) # 負數是因為 heapq.heappush 是返還最小值項，所以priority越大越先返還\r\n",
    "        self._index+=1\r\n",
    "\r\n",
    "    def pop(self):#返還最高級\r\n",
    "        return heapq.heappop(self._queue)\r\n",
    "    \r\n",
    "    def size(self) -> None:\r\n",
    "        return len(self._queue)\r\n",
    "        \r\n",
    "class Item(object):\r\n",
    "    def __init__(self , name) -> None:\r\n",
    "        self.name = name\r\n",
    "    def __repr__(self) -> str:\r\n",
    "        return f'Item :{self.name}'"
   ],
   "outputs": [],
   "metadata": {}
  },
  {
   "cell_type": "code",
   "execution_count": 22,
   "source": [
    "q = PriorityQueue()\r\n",
    "q.push('test1' , 1)\r\n",
    "q.push('test2' , 4)\r\n",
    "q.push('test3' , 5)\r\n",
    "q.push('test6' , 2)\r\n",
    "q.push('test4' , 3)\r\n",
    "\r\n",
    "for i in range(q.size()):\r\n",
    "    print(q.pop())"
   ],
   "outputs": [
    {
     "output_type": "stream",
     "name": "stdout",
     "text": [
      "(-5, 2, 'test3')\n",
      "(-4, 1, 'test2')\n",
      "(-3, 4, 'test4')\n",
      "(-2, 3, 'test6')\n",
      "(-1, 0, 'test1')\n"
     ]
    }
   ],
   "metadata": {}
  },
  {
   "cell_type": "code",
   "execution_count": null,
   "source": [],
   "outputs": [],
   "metadata": {}
  }
 ],
 "metadata": {
  "orig_nbformat": 4,
  "language_info": {
   "name": "python",
   "version": "3.7.9",
   "mimetype": "text/x-python",
   "codemirror_mode": {
    "name": "ipython",
    "version": 3
   },
   "pygments_lexer": "ipython3",
   "nbconvert_exporter": "python",
   "file_extension": ".py"
  },
  "kernelspec": {
   "name": "python3",
   "display_name": "Python 3.7.9 64-bit (system)"
  },
  "interpreter": {
   "hash": "154b985307ed5f27a6d3ba42b096a18e491c73105c0c1fcaaefcabf9f0831ca0"
  }
 },
 "nbformat": 4,
 "nbformat_minor": 2
}