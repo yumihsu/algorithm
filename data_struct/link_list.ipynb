{
 "cells": [
  {
   "cell_type": "markdown",
   "source": [
    "# linked-list"
   ],
   "metadata": {}
  },
  {
   "cell_type": "markdown",
   "source": [
    "鏈表的常用函式：\r\n",
    "\r\n",
    "### is_empty()，檢查鏈表是否為空。\r\n",
    "### append(data)，在尾部增加一個節點，參數為要增加節點的値。\r\n",
    "### iter()，疊代鏈表，此方法一般是一個產成器。\r\n",
    "### insert(idx, value)，插入一個節點，參數為要插入節點的索引和値。\r\n",
    "### remove(idx)，移除節點，參數為要移除節點的索引。\r\n",
    "### size()，獲取鏈表的節點個數。\r\n",
    "### search(item)，查找節點，參數為要查找節點的値或索引。"
   ],
   "metadata": {}
  },
  {
   "cell_type": "code",
   "execution_count": 1,
   "source": [
    "class ListNode:\r\n",
    "    def __init__(self ,data):\r\n",
    "        # store data\r\n",
    "        self.data = data \r\n",
    "        # store the reference (next item)\r\n",
    "        self.next = None\r\n",
    "        return \r\n",
    "    "
   ],
   "outputs": [],
   "metadata": {}
  },
  {
   "cell_type": "code",
   "execution_count": 32,
   "source": [
    "node1 = ListNode(15)\r\n",
    "print(node1.next)"
   ],
   "outputs": [
    {
     "output_type": "stream",
     "name": "stdout",
     "text": [
      "None\n"
     ]
    }
   ],
   "metadata": {}
  },
  {
   "cell_type": "code",
   "execution_count": 56,
   "source": [
    "class SingleLinkedList:\r\n",
    "    def __init__(self):\r\n",
    "        self.head = None\r\n",
    "        self.tail = None\r\n",
    "        return\r\n",
    "\r\n",
    "    def is_empty(self): # head 沒有 = 什麼都沒有\r\n",
    "        return self.head is None\r\n",
    "    \r\n",
    "    def append(self ,data):\r\n",
    "        node = ListNode(data)\r\n",
    "        if self.head is None:\r\n",
    "            self.head = node\r\n",
    "            self.tail = node\r\n",
    "        else:\r\n",
    "            self.tail.next = node # 要先做好新的node指標為node 才能去定義我們新增的node是新的tail  \r\n",
    "            self.tail = node\r\n",
    "\r\n",
    "    def iter(self):\r\n",
    "        if not self.head:\r\n",
    "            return\r\n",
    "        cur = self.head\r\n",
    "\r\n",
    "        yield cur.data\r\n",
    "\r\n",
    "        while cur.next is not None:\r\n",
    "            cur = cur.next\r\n",
    "            yield cur.data\r\n",
    "\r\n",
    "    def insert(self, idx , value):\r\n",
    "        cur = self.head\r\n",
    "        cur_idx = 0\r\n",
    "        if cur is None:\r\n",
    "            raise Exception('it is empty.')\r\n",
    "        while cur_idx < idx - 1 :\r\n",
    "            cur = cur.next\r\n",
    "            if cur.next is None:\r\n",
    "                raise Exception('超出範圍')\r\n",
    "            cur_idx+=1\r\n",
    "        \r\n",
    "        node = ListNode(value) # 創建新的\r\n",
    "        node.next = cur.next # 先把舊的拆開，將原本next指標 告訴新的node 避免遺失原始後面node\r\n",
    "        cur.next = node # 把current.next 跟新的node 連結上 \r\n",
    "\r\n",
    "        if node.next is None: # 如果cur.next是空的話(就是安插在最後一個的意思) 那新的節點同時也要是self.tail\r\n",
    "            self.tail = node\r\n",
    "    def delete(self ,idx):\r\n",
    "        cur = self.head\r\n",
    "        cur_idx = 0\r\n",
    "        if cur is None:\r\n",
    "            raise Exception('it is empty.')\r\n",
    "        while cur_idx < idx - 1 :\r\n",
    "            cur = cur.next\r\n",
    "            if cur.next is None:\r\n",
    "                raise Exception('超出範圍')\r\n",
    "            cur_idx+=1\r\n",
    "        \r\n",
    "        if idx == 0:\r\n",
    "            self.head = cur.next\r\n",
    "            cur = cur.next\r\n",
    "            return\r\n",
    "        if self.head == self.tail:\r\n",
    "            self.head = None\r\n",
    "            self.tail = None\r\n",
    "            return \r\n",
    "\r\n",
    "        cur.next = cur.next.next\r\n",
    "        if cur.next is None:\r\n",
    "            self.tail = cur\r\n",
    "    \r\n",
    "    def size(self):\r\n",
    "        cur = self.head\r\n",
    "        count = 0\r\n",
    "        if cur is None:\r\n",
    "            print('it is empty')\r\n",
    "            return\r\n",
    "        else:\r\n",
    "            count+=1\r\n",
    "        while cur.next is not None:\r\n",
    "            cur = cur.next\r\n",
    "            count +=1\r\n",
    "        return count\r\n",
    "\r\n",
    "    def search(self , target):\r\n",
    "        cur = self.head\r\n",
    "        idx = 0\r\n",
    "        found = False\r\n",
    "        if cur is  None:\r\n",
    "            print('it is empty')\r\n",
    "        while cur.next is not None:  \r\n",
    "            if cur.data==target:\r\n",
    "                found = True\r\n",
    "                break\r\n",
    "            else:\r\n",
    "                cur = cur.next\r\n",
    "                idx+=1\r\n",
    "        return  found\r\n",
    "            "
   ],
   "outputs": [],
   "metadata": {}
  },
  {
   "cell_type": "code",
   "execution_count": 60,
   "source": [
    "ll = SingleLinkedList()\r\n",
    "ll.append(1)\r\n",
    "ll.append(2)\r\n",
    "ll.append(3)\r\n",
    "for i in ll.iter():\r\n",
    "    print(i)\r\n",
    "print('\\nafter insert')\r\n",
    "ll.insert(2,4)\r\n",
    "for i in ll.iter():\r\n",
    "    print(i)\r\n",
    "\r\n",
    "print(f'\\nsize is {ll.size()}')\r\n",
    "\r\n",
    "print(\r\n",
    "    ll.search(2),\r\n",
    "    ll.search(10),\r\n",
    "    sep = '\\n')"
   ],
   "outputs": [
    {
     "output_type": "stream",
     "name": "stdout",
     "text": [
      "1\n",
      "2\n",
      "3\n",
      "\n",
      "after insert\n",
      "1\n",
      "2\n",
      "4\n",
      "3\n",
      "\n",
      "size is 4\n",
      "True\n",
      "False\n"
     ]
    }
   ],
   "metadata": {}
  },
  {
   "cell_type": "markdown",
   "source": [
    " # Reverse Linked List"
   ],
   "metadata": {}
  },
  {
   "cell_type": "code",
   "execution_count": null,
   "source": [
    "def reverseList(self,head):\r\n",
    "    prev = None\r\n",
    "    while head:\r\n",
    "        current = head\r\n",
    "        head = head.next\r\n",
    "        current.next = prev\r\n",
    "        prev = current\r\n",
    "    return prev"
   ],
   "outputs": [],
   "metadata": {}
  },
  {
   "cell_type": "code",
   "execution_count": null,
   "source": [],
   "outputs": [],
   "metadata": {}
  }
 ],
 "metadata": {
  "orig_nbformat": 4,
  "language_info": {
   "name": "python",
   "version": "3.7.9",
   "mimetype": "text/x-python",
   "codemirror_mode": {
    "name": "ipython",
    "version": 3
   },
   "pygments_lexer": "ipython3",
   "nbconvert_exporter": "python",
   "file_extension": ".py"
  },
  "kernelspec": {
   "name": "python3",
   "display_name": "Python 3.7.9 64-bit (system)"
  },
  "interpreter": {
   "hash": "154b985307ed5f27a6d3ba42b096a18e491c73105c0c1fcaaefcabf9f0831ca0"
  }
 },
 "nbformat": 4,
 "nbformat_minor": 2
}