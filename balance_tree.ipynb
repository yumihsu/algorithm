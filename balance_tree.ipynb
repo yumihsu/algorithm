{
 "cells": [
  {
   "cell_type": "markdown",
   "source": [
    "# 完全二元樹搜索"
   ],
   "metadata": {}
  },
  {
   "cell_type": "markdown",
   "source": [
    "## 邏輯\r\n",
    "- 每一個root都有left and right \r\n",
    "- 大於去左邊 小於去右邊\r\n",
    "- 搜索方式，先找左，再找右的情況:\r\n",
    "    - 一找到就印->由小印到大\r\n",
    "    - 找到左底再印\r\n",
    "    - 找到右底再印"
   ],
   "metadata": {}
  },
  {
   "cell_type": "code",
   "execution_count": 62,
   "source": [
    "class Node(object): #資料結構邏輯\r\n",
    "    def __init__(self,data):\r\n",
    "        # Node 本身\r\n",
    "        self.data = data\r\n",
    "        # Node 左節點\r\n",
    "        self.left = None\r\n",
    "        # Node 右節點\r\n",
    "        self.right = None\r\n",
    "\r\n",
    "    def insert(self , data ):\r\n",
    "        if self.data == data : # 有重複的話回傳flase\r\n",
    "            return False \r\n",
    "        elif  data < self.data: #小於去左邊\r\n",
    "            if self.left:\r\n",
    "                return self.left.insert(data)\r\n",
    "            else:\r\n",
    "                self.left = Node(data)\r\n",
    "                return True\r\n",
    "        else:#大於去右邊\r\n",
    "            if self.right:\r\n",
    "                return self.right.insert(data)\r\n",
    "            else:\r\n",
    "                self.right = Node(data)\r\n",
    "                return True\r\n",
    "    \r\n",
    "    def find(self , data):\r\n",
    "        if data == self.data : # 找到\r\n",
    "            return True\r\n",
    "        \r\n",
    "        elif data < self.data: # 比當前小\r\n",
    "            if self.left:\r\n",
    "                return self.left.find(data)\r\n",
    "            else:\r\n",
    "                False\r\n",
    "\r\n",
    "        else: # 比當前大\r\n",
    "            if self.right:\r\n",
    "                return self.right.find(data)\r\n",
    "            else:\r\n",
    "                False\r\n",
    "\r\n",
    "    def pre_order(self):#一有就印\r\n",
    "        if self:\r\n",
    "            print(self.data,end=\"  \")\r\n",
    "            if self.left:\r\n",
    "                self.left.pre_order()\r\n",
    "            if self.right:\r\n",
    "                self.right.pre_order()\r\n",
    "\r\n",
    "    def in_order(self):#走到左邊沒路就印\r\n",
    "        if self:\r\n",
    "            if self.left:\r\n",
    "                self.left.in_order()\r\n",
    "            print(self.data , end=\"  \")\r\n",
    "            if self.right:\r\n",
    "                self.right.in_order()\r\n",
    "\r\n",
    "\r\n",
    "    def post_order(self):#走到底再印\r\n",
    "        if self:\r\n",
    "            if self.left:\r\n",
    "                self.left.post_order()\r\n",
    "            if self.right:\r\n",
    "                self.right.post_order()\r\n",
    "            print(self.data , end=\"  \")                                       \r\n",
    "\r\n"
   ],
   "outputs": [],
   "metadata": {}
  },
  {
   "cell_type": "code",
   "execution_count": 63,
   "source": [
    "class Tree(object):#物件邏輯\r\n",
    "    \r\n",
    "    def __init__(self):\r\n",
    "        self.root = None\r\n",
    "    \r\n",
    "    def insert(self,data):\r\n",
    "        if self.root:\r\n",
    "            self.root.insert(data)\r\n",
    "        else:\r\n",
    "            self.root = Node(data)\r\n",
    "            return True\r\n",
    "\r\n",
    "    def find(self,data):\r\n",
    "        if self.root:\r\n",
    "            self.root.find(data)\r\n",
    "        else:\r\n",
    "            return False\r\n",
    "\r\n",
    "    def pre_order(self):\r\n",
    "        if self.root is not None:\r\n",
    "            print(\"\\npre_order -- :\")\r\n",
    "            self.root.pre_order()\r\n",
    "\r\n",
    "    def in_order(self) :\r\n",
    "        if self.root is not None:\r\n",
    "            print(\"\\nin_order -- :\")\r\n",
    "            self.root.in_order()\r\n",
    "\r\n",
    "    def post_order(self):\r\n",
    "        if self.root is not None:\r\n",
    "            print(\"\\npost_order -- :\")\r\n",
    "            self.root.post_order()\r\n",
    "    "
   ],
   "outputs": [],
   "metadata": {}
  },
  {
   "cell_type": "code",
   "execution_count": 67,
   "source": [
    "import random \r\n",
    "num_list = []\r\n",
    "while len(num_list) < 15:\r\n",
    "    num = random.randint(1,30)\r\n",
    "    if num not in num_list:\r\n",
    "        num_list.append(num)"
   ],
   "outputs": [],
   "metadata": {}
  },
  {
   "cell_type": "code",
   "execution_count": 68,
   "source": [
    "\r\n",
    "tree = Tree()\r\n",
    "for i in num_list:\r\n",
    "    tree.insert(i) \r\n",
    "tree.in_order()\r\n",
    "tree.pre_order()\r\n",
    "tree.post_order()"
   ],
   "outputs": [
    {
     "output_type": "stream",
     "name": "stdout",
     "text": [
      "\n",
      "in_order -- :\n",
      "1  2  3  4  9  11  13  14  17  19  20  21  23  29  30  \n",
      "pre_order -- :\n",
      "17  11  9  3  1  2  4  13  14  23  20  19  21  29  30  \n",
      "post_order -- :\n",
      "2  1  4  3  9  14  13  11  19  21  20  30  29  23  17  "
     ]
    }
   ],
   "metadata": {}
  },
  {
   "cell_type": "code",
   "execution_count": null,
   "source": [],
   "outputs": [],
   "metadata": {}
  }
 ],
 "metadata": {
  "orig_nbformat": 4,
  "language_info": {
   "name": "python",
   "version": "3.7.3",
   "mimetype": "text/x-python",
   "codemirror_mode": {
    "name": "ipython",
    "version": 3
   },
   "pygments_lexer": "ipython3",
   "nbconvert_exporter": "python",
   "file_extension": ".py"
  },
  "kernelspec": {
   "name": "python3",
   "display_name": "Python 3.7.3 64-bit ('base': conda)"
  },
  "interpreter": {
   "hash": "b3ba2566441a7c06988d0923437866b63cedc61552a5af99d1f4fb67d367b25f"
  }
 },
 "nbformat": 4,
 "nbformat_minor": 2
}