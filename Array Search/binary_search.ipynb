{
 "cells": [
  {
   "cell_type": "markdown",
   "source": [
    "# 二分搜尋法\r\n",
    "## 原則\r\n",
    "- 每次找出範圍內的中位數為當前數值，比較是否與目標相符\r\n",
    "- 如果不符就往符合比較大小結果的那一半去尋找\r\n",
    "- p.s. 該範例有另外增加判斷中位數是否為連續數值，如果是連續數值則應該調整為非連續數值\r\n",
    "\r\n",
    "## 複雜度\r\n",
    "### 因為每一輪的計算結果為 1 / 2的list長度，因此複雜度為n/2 + n/4 + n/8 + n/16... => 2^k=n  k = logN "
   ],
   "metadata": {}
  },
  {
   "cell_type": "code",
   "execution_count": 33,
   "source": [
    "class b_search():\r\n",
    "    def __init__(self , data) -> None:\r\n",
    "        self.data = data\r\n",
    "        self.left = 0\r\n",
    "        self.right = len(data)\r\n",
    "        self.mid = self.left + (self.right//2 + 1)\r\n",
    "\r\n",
    "    def search(self, target):\r\n",
    "        print(self.mid)\r\n",
    "        if target not in self.data:\r\n",
    "            return 'Not in data'\r\n",
    "            \r\n",
    "        while self.data[self.mid] != target:\r\n",
    "            if target > data[self.mid]:\r\n",
    "                self.left = self.mid + 1\r\n",
    "            else:\r\n",
    "                self.right = self.mid - 1\r\n",
    "                \r\n",
    "            self.mid = self.left + (self.right - self.left)/2\r\n",
    "            if self.mid != int(self.mid):\r\n",
    "                self.mid = int(self.mid)+1\r\n",
    "            else:\r\n",
    "                self.mid = int(self.mid)\r\n",
    "            print(self.mid,' ')\r\n",
    "\r\n",
    "        print(f'mid is {self.mid} found target ')"
   ],
   "outputs": [],
   "metadata": {}
  },
  {
   "cell_type": "code",
   "execution_count": 34,
   "source": [
    "data = [i for i in range(100)]\r\n",
    "test = b_search(data)\r\n",
    "test.search(3)"
   ],
   "outputs": [
    {
     "output_type": "stream",
     "name": "stdout",
     "text": [
      "51\n",
      "25  \n",
      "12  \n",
      "6  \n",
      "3  \n",
      "mid is 3 found target \n"
     ]
    }
   ],
   "metadata": {}
  },
  {
   "cell_type": "code",
   "execution_count": null,
   "source": [],
   "outputs": [],
   "metadata": {}
  }
 ],
 "metadata": {
  "orig_nbformat": 4,
  "language_info": {
   "name": "python",
   "version": "3.7.9",
   "mimetype": "text/x-python",
   "codemirror_mode": {
    "name": "ipython",
    "version": 3
   },
   "pygments_lexer": "ipython3",
   "nbconvert_exporter": "python",
   "file_extension": ".py"
  },
  "kernelspec": {
   "name": "python3",
   "display_name": "Python 3.7.9 64-bit (system)"
  },
  "interpreter": {
   "hash": "154b985307ed5f27a6d3ba42b096a18e491c73105c0c1fcaaefcabf9f0831ca0"
  }
 },
 "nbformat": 4,
 "nbformat_minor": 2
}