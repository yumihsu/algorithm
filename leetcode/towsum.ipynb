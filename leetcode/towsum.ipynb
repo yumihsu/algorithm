{
 "cells": [
  {
   "cell_type": "markdown",
   "source": [
    "# 2021/10/3 以enumerate的寫法"
   ],
   "metadata": {}
  },
  {
   "cell_type": "markdown",
   "source": [
    "- Runtime: 840 ms, faster than 33.81% of Python3 online - submissions for Two Sum.\r\n",
    "- Memory Usage: 14.9 MB, less than 80.68% of Python3\r\n",
    "- O(n)"
   ],
   "metadata": {}
  },
  {
   "cell_type": "code",
   "execution_count": null,
   "source": [
    "class Solution:\r\n",
    "    def twoSum(self, nums: List[int], target: int) -> List[int]:\r\n",
    "        for idx,num in enumerate(nums):\r\n",
    "            if target - num in nums and idx!= nums.index(target-num):\r\n",
    "                return [idx , nums.index(target-num)]"
   ],
   "outputs": [],
   "metadata": {}
  }
 ],
 "metadata": {
  "orig_nbformat": 4,
  "language_info": {
   "name": "python",
   "version": "3.7.9"
  },
  "kernelspec": {
   "name": "python3",
   "display_name": "Python 3.7.9 64-bit (system)"
  },
  "interpreter": {
   "hash": "154b985307ed5f27a6d3ba42b096a18e491c73105c0c1fcaaefcabf9f0831ca0"
  }
 },
 "nbformat": 4,
 "nbformat_minor": 2
}