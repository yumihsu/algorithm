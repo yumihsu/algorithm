{
 "cells": [
  {
   "cell_type": "code",
   "execution_count": null,
   "source": [
    "class solution:\r\n",
    "    def invers_tree(self ,root:object):\r\n",
    "        if root == None:return  \r\n",
    "        \r\n",
    "        root.left , root.right = root.right , root.left\r\n",
    "        invers_tree(root.left)\r\n",
    "        invers_tree(root.right)\r\n",
    "\r\n",
    "        return root"
   ],
   "outputs": [],
   "metadata": {}
  }
 ],
 "metadata": {
  "orig_nbformat": 4,
  "language_info": {
   "name": "python"
  }
 },
 "nbformat": 4,
 "nbformat_minor": 2
}